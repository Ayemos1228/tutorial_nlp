{
 "cells": [
  {
   "cell_type": "markdown",
   "metadata": {},
   "source": [
    "# 第1回 宿題"
   ]
  },
  {
   "cell_type": "markdown",
   "metadata": {},
   "source": [
    "## 課題： PyTorchを使ってMLPを実装"
   ]
  },
  {
   "cell_type": "markdown",
   "metadata": {},
   "source": [
    "- データセットには、10カテゴリーの衣料品の、70,000枚のグレースケールの画像からなる[Fashion MNIST](https://github.com/zalandoresearch/fashion-mnist)を用います。\n",
    "    - torchvisionのdatasetsに`FashionMNIST`というクラスでデータセットが用意されているので、これを利用すると便利です。\n",
    "    - `train`引数にTrue/Falseを与えるとそれぞれ訓練データとテストデータが取得できます\n",
    "- 訓練データでモデルを学習し、テストデータに対する予測をcsvに出力して提出してください。\n",
    "- ファイルの形式はsample_submission.csvを参考に、サンプルごとにラベルをカンマで区切って提出してください。\n",
    "- ファイル名はsubmission.csvとしてください。\n",
    "- テストデータに対する予測結果の精度（F1スコア）で評価します。"
   ]
  },
  {
   "cell_type": "code",
   "execution_count": null,
   "metadata": {},
   "outputs": [],
   "source": [
    "import os\n",
    "os.chdir('/root/userspace/chap1/') # 自分のファイルがあるパスにしてください"
   ]
  },
  {
   "cell_type": "code",
   "execution_count": null,
   "metadata": {},
   "outputs": [],
   "source": [
    "! head -c 100 sample_submission.csv"
   ]
  },
  {
   "cell_type": "markdown",
   "metadata": {},
   "source": [
    "以下のサンプルコードを参考にしてください。"
   ]
  },
  {
   "cell_type": "code",
   "execution_count": null,
   "metadata": {},
   "outputs": [],
   "source": [
    "import csv\n",
    "import numpy as np\n",
    "import torch\n",
    "import torch.nn as nn\n",
    "import torch.optim as optim\n",
    "import torch.autograd as autograd\n",
    "import torch.nn.functional as F\n",
    "import torchvision\n",
    "\n",
    "device = torch.device(\"cuda\" if torch.cuda.is_available() else \"cpu\")\n",
    "\n",
    "in_dim  = 784\n",
    "hid_dim = 200\n",
    "out_dim = 10\n",
    "lr = 0.001\n",
    "batch_size = 32\n",
    "num_epochs = 1\n",
    "\n",
    "# データセットの読み込み\n",
    "train_data = torchvision.datasets.FashionMNIST(\n",
    "    './data/fashion-mnist',\n",
    "    transform=torchvision.transforms.ToTensor(),\n",
    "    train=True,\n",
    "    download=True)\n",
    "\n",
    "test_data = torchvision.datasets.FashionMNIST(\n",
    "    './data/fashion-mnist',\n",
    "    transform=torchvision.transforms.ToTensor(),\n",
    "    train=False,\n",
    "    download=True)\n",
    "\n",
    "# データローダの定義\n",
    "train_data_loader = torch.utils.data.DataLoader(\n",
    "    dataset=train_data,\n",
    "    batch_size=batch_size,\n",
    "    shuffle=True)\n",
    "\n",
    "test_data_loader = torch.utils.data.DataLoader(\n",
    "    dataset=test_data,\n",
    "    batch_size=batch_size,\n",
    "    shuffle=False)\n"
   ]
  },
  {
   "cell_type": "code",
   "execution_count": null,
   "metadata": {},
   "outputs": [],
   "source": [
    "# モデルの定義\n",
    "class MLP(nn.Module):\n",
    "    def __init__(self, in_dim, hid_dim, out_dim):\n",
    "        super(MLP, self).__init__()\n",
    "        self.Linear1 = nn.Linear(in_dim, hid_dim)\n",
    "        self.Linear2 = nn.Linear(hid_dim, out_dim)\n",
    "    \n",
    "    def forward(self, x):\n",
    "        x = F.relu(self.Linear1(x))\n",
    "        return F.log_softmax(self.Linear2(x), dim=-1)\n",
    "\n",
    "mlp = MLP(in_dim, hid_dim, out_dim).to(device)\n",
    "\n",
    "optimizer = optim.SGD(mlp.parameters(), lr=lr)\n",
    "\n",
    "criterion = nn.NLLLoss()\n",
    "\n",
    "# 学習\n",
    "for i in range(num_epochs):\n",
    "    for x, t in train_data_loader:        \n",
    "        x = x.to(device)\n",
    "        t = t.to(device)\n",
    "        \n",
    "        x = x.view(x.size(0), -1)\n",
    "        y = mlp.forward(x)\n",
    "        \n",
    "        loss = criterion(y, t)\n",
    "        \n",
    "        loss.backward()\n",
    "        \n",
    "        optimizer.step()"
   ]
  },
  {
   "cell_type": "code",
   "execution_count": null,
   "metadata": {},
   "outputs": [],
   "source": [
    "# テストデータを予測\n",
    "preds = []\n",
    "for x, _ in test_data_loader:\n",
    "    x = x.to(device)\n",
    "    x = x.view(x.size(0), -1)\n",
    "    y = mlp.forward(x)\n",
    "    pred = y.argmax(1).tolist()\n",
    "    preds += pred\n",
    "    \n",
    "# 予測結果を保存\n",
    "SUBMISSION_PATH = 'submission.csv'\n",
    "with open(SUBMISSION_PATH, 'w') as f:\n",
    "    writer = csv.writer(f, lineterminator='\\n')\n",
    "    writer.writerow(preds)"
   ]
  },
  {
   "cell_type": "code",
   "execution_count": null,
   "metadata": {},
   "outputs": [],
   "source": [
    "# admin: sample_submission.csvの作成\n",
    "! head ./submission.csv > ./sample_submission.csv"
   ]
  },
  {
   "cell_type": "code",
   "execution_count": null,
   "metadata": {},
   "outputs": [],
   "source": [
    "# admin: answer.csvの作成\n",
    "! python ./admin/create_answer.py"
   ]
  },
  {
   "cell_type": "code",
   "execution_count": null,
   "metadata": {},
   "outputs": [],
   "source": [
    "# admin: 評価\n",
    "! USERSUBMISSION=submission.csv python ./admin/scoring.py"
   ]
  }
 ],
 "metadata": {
  "kernelspec": {
   "display_name": "Python 3",
   "language": "python",
   "name": "python3"
  },
  "language_info": {
   "codemirror_mode": {
    "name": "ipython",
    "version": 3
   },
   "file_extension": ".py",
   "mimetype": "text/x-python",
   "name": "python",
   "nbconvert_exporter": "python",
   "pygments_lexer": "ipython3",
   "version": "3.6.7"
  }
 },
 "nbformat": 4,
 "nbformat_minor": 2
}
