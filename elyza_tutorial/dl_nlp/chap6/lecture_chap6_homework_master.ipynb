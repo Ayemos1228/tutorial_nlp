{
 "cells": [
  {
   "cell_type": "markdown",
   "metadata": {},
   "source": [
    "# 第6回講義　宿題"
   ]
  },
  {
   "cell_type": "markdown",
   "metadata": {},
   "source": [
    "## 課題：\n",
    "* 与えられたデータ(True data)をSeqGANで学習して、より与えられたデータに近いデータを生成してください。\n",
    "* 生成すべきデータ数は1000とします。\n",
    "* 宿題で使うTrue dataはランダムにパラメータを初期化したLSTMで生成した整数値の系列からなるデータで、意味を持たないToy dataです。\n",
    "* Generatorのハイパーパラメータはこちらで指定したものを使用してください。\n",
    "* 特殊なトークンIDはBOS=0のみとします。\n",
    "    * 固定長(=20)の系列を出力したら終了とするのでEOS, PADは必要ありません。\n",
    "    * 語彙数(=50000)も固定なのでUNKも必要ありません。\n",
    "* SeqGANで学習したLSTMを使って生成したデータをsubmission.csvに出力して提出してください。\n",
    "* submission.csvのフォーマットはsample_submission.csvを参考にしてください。（1000行20列になります。）\n",
    "* 評価は提出されたデータの負の対数尤度の平均で行います。"
   ]
  },
  {
   "cell_type": "code",
   "execution_count": null,
   "metadata": {},
   "outputs": [],
   "source": [
    "import os\n",
    "import math\n",
    "import copy\n",
    "import random\n",
    "import numpy as np\n",
    "import torch\n",
    "import torch.nn as nn\n",
    "import torch.optim as optim\n",
    "import torch.nn.functional as F\n",
    "\n",
    "device = torch.device(\"cuda\" if torch.cuda.is_available() else \"cpu\")\n",
    "\n",
    "BOS = 0\n",
    "\n",
    "# Generatorには必ずこれらのハイパーパラメータを使ってください\n",
    "vocab_size = 5000\n",
    "G_EMB_DIM = 32 # 埋め込みベクトルの次元数\n",
    "G_HIDDEN_DIM = 32 # LSTMの隠れ状態ベクトルの次元数\n",
    "G_SEQ_LENGTH = 20 # 系列の長さ\n",
    "\n",
    "true_data = torch.load(\"./data/true_data.pt\", map_location='cpu').to(device)"
   ]
  },
  {
   "cell_type": "code",
   "execution_count": null,
   "metadata": {},
   "outputs": [],
   "source": [
    "# WRITE ME"
   ]
  }
 ],
 "metadata": {
  "kernelspec": {
   "display_name": "Python 3",
   "language": "python",
   "name": "python3"
  },
  "language_info": {
   "codemirror_mode": {
    "name": "ipython",
    "version": 3
   },
   "file_extension": ".py",
   "mimetype": "text/x-python",
   "name": "python",
   "nbconvert_exporter": "python",
   "pygments_lexer": "ipython3",
   "version": "3.6.1"
  }
 },
 "nbformat": 4,
 "nbformat_minor": 2
}
